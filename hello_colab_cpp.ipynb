{
  "nbformat": 4,
  "nbformat_minor": 0,
  "metadata": {
    "colab": {
      "provenance": [],
      "gpuType": "T4",
      "authorship_tag": "ABX9TyM3w07NIV8NxBTUWVG8ec81",
      "include_colab_link": true
    },
    "kernelspec": {
      "name": "python3",
      "display_name": "Python 3"
    },
    "language_info": {
      "name": "python"
    },
    "accelerator": "GPU"
  },
  "cells": [
    {
      "cell_type": "markdown",
      "metadata": {
        "id": "view-in-github",
        "colab_type": "text"
      },
      "source": [
        "<a href=\"https://colab.research.google.com/github/wwalbrecht/jupyter/blob/main/hello_colab_cpp.ipynb\" target=\"_parent\"><img src=\"https://colab.research.google.com/assets/colab-badge.svg\" alt=\"Open In Colab\"/></a>"
      ]
    },
    {
      "cell_type": "markdown",
      "source": [
        "Mit dem ersten Code-Block müssen noch Installationen gemacht werden, damit im Notebook das \"cell-magic\" %%cu für den C++-Comiler verfügbar ist.\n",
        "\n",
        "Quelle: https://www.geeksforgeeks.org/how-to-run-cuda-c-c-on-jupyter-notebook-in-google-colaboratory/"
      ],
      "metadata": {
        "id": "ra9j3V0XQJ_s"
      }
    },
    {
      "cell_type": "code",
      "source": [
        "!nvcc --version\n",
        "!pip install git+https://github.com/andreinechaev/nvcc4jupyter.git\n",
        "%load_ext nvcc_plugin"
      ],
      "metadata": {
        "colab": {
          "base_uri": "https://localhost:8080/"
        },
        "id": "fyVDClX4P3WX",
        "outputId": "42ddde0f-0982-4eee-8577-4d433bbb2584"
      },
      "execution_count": 8,
      "outputs": [
        {
          "output_type": "stream",
          "name": "stdout",
          "text": [
            "nvcc: NVIDIA (R) Cuda compiler driver\n",
            "Copyright (c) 2005-2022 NVIDIA Corporation\n",
            "Built on Wed_Sep_21_10:33:58_PDT_2022\n",
            "Cuda compilation tools, release 11.8, V11.8.89\n",
            "Build cuda_11.8.r11.8/compiler.31833905_0\n",
            "Collecting git+https://github.com/andreinechaev/nvcc4jupyter.git\n",
            "  Cloning https://github.com/andreinechaev/nvcc4jupyter.git to /tmp/pip-req-build-liwk3l04\n",
            "  Running command git clone --filter=blob:none --quiet https://github.com/andreinechaev/nvcc4jupyter.git /tmp/pip-req-build-liwk3l04\n",
            "  Resolved https://github.com/andreinechaev/nvcc4jupyter.git to commit 0a71d56e5dce3ff1f0dd2c47c29367629262f527\n",
            "  Preparing metadata (setup.py) ... \u001b[?25l\u001b[?25hdone\n",
            "directory /content/src already exists\n",
            "Out bin /content/result.out\n"
          ]
        }
      ]
    },
    {
      "cell_type": "code",
      "source": [
        "%%cu\n",
        "//cu cell-magic is required to use c++\n",
        "#include <iostream>\n",
        "\tint\n",
        "\tmain()\n",
        "{\n",
        "\tstd::cout << \"Welcome To C++\\n\";\n",
        "\treturn 0;\n",
        "}\n"
      ],
      "metadata": {
        "colab": {
          "base_uri": "https://localhost:8080/"
        },
        "id": "A3QPaCJYQBls",
        "outputId": "6b967476-81b1-457c-ff0d-1bff883e6b9e"
      },
      "execution_count": 9,
      "outputs": [
        {
          "output_type": "stream",
          "name": "stdout",
          "text": [
            "Welcome To C++\n",
            "\n"
          ]
        }
      ]
    },
    {
      "cell_type": "markdown",
      "source": [
        "(Sehen sie nur \"*UsageError: Cell magic `%%cu` not found.*\"?\n",
        "\n",
        "Haben sie vergessen den obersten Code-Block auszuführen?)"
      ],
      "metadata": {
        "id": "UlYVtFMPqh1B"
      }
    },
    {
      "cell_type": "code",
      "source": [
        "!ls -l\n",
        "!ls -l ./sample_data"
      ],
      "metadata": {
        "id": "GDXqDlB-PnvJ",
        "colab": {
          "base_uri": "https://localhost:8080/"
        },
        "outputId": "a1fddea9-60e4-4332-d97d-19d186fa3343"
      },
      "execution_count": 7,
      "outputs": [
        {
          "output_type": "stream",
          "name": "stdout",
          "text": [
            "total 8\n",
            "drwxr-xr-x 1 root root 4096 Sep 18 13:37 sample_data\n",
            "drwxr-xr-x 2 root root 4096 Sep 20 08:10 src\n",
            "total 55504\n",
            "-rwxr-xr-x 1 root root     1697 Jan  1  2000 anscombe.json\n",
            "-rw-r--r-- 1 root root   301141 Sep 18 13:37 california_housing_test.csv\n",
            "-rw-r--r-- 1 root root  1706430 Sep 18 13:37 california_housing_train.csv\n",
            "-rw-r--r-- 1 root root 18289443 Sep 18 13:37 mnist_test.csv\n",
            "-rw-r--r-- 1 root root 36523880 Sep 18 13:37 mnist_train_small.csv\n",
            "-rwxr-xr-x 1 root root      930 Jan  1  2000 README.md\n"
          ]
        }
      ]
    },
    {
      "cell_type": "markdown",
      "source": [
        "Todo weitere Notebooks:\n",
        "\n",
        "\n",
        "https://colab.research.google.com/github/hussain0048/C-Plus-Plus/blob/master/Basic_of_C%2B%2B.ipynb#scrollTo=UNIfawb86g7J\n"
      ],
      "metadata": {
        "id": "nCDZddmzs2cW"
      }
    }
  ]
}