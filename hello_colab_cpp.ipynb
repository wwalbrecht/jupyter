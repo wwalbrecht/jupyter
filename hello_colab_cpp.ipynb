{
  "nbformat": 4,
  "nbformat_minor": 0,
  "metadata": {
    "colab": {
      "provenance": [],
      "gpuType": "T4",
      "authorship_tag": "ABX9TyPKZ3lq24PBqTGl0dKVp1YC",
      "include_colab_link": true
    },
    "kernelspec": {
      "name": "python3",
      "display_name": "Python 3"
    },
    "language_info": {
      "name": "python"
    }
  },
  "cells": [
    {
      "cell_type": "markdown",
      "metadata": {
        "id": "view-in-github",
        "colab_type": "text"
      },
      "source": [
        "<a href=\"https://colab.research.google.com/github/wwalbrecht/jupyter/blob/main/hello_colab_cpp.ipynb\" target=\"_parent\"><img src=\"https://colab.research.google.com/assets/colab-badge.svg\" alt=\"Open In Colab\"/></a>"
      ]
    },
    {
      "cell_type": "markdown",
      "source": [
        "\n",
        "# Allgemeines zur Einleitung und Initialisierung\n",
        "Bei Jupyter Notebooks https://jupyter.org/ kann Text mit Programm-Code gemischt werden. Zum Ausführen des Programm-Code gehen sie mit der Maus auf die Zelle und klicken auf den Pfeil (Dreieck) daneben.\n",
        "\n",
        "Damit sie zur Ausführung keine lokalen Installationen benötigen, benutzen wir die Cloud von Google Colab https://colab.research.google.com/?hl=de. Dafür brauchen sie leider ein **Konto bei google**. Eine lokale Installation ist auch möglich, aber wegen des C++ Compilers aufwendig.\n",
        "\n",
        "\n"
      ],
      "metadata": {
        "id": "aAsX4EvQw90t"
      }
    },
    {
      "cell_type": "code",
      "source": [
        "print(\"Vorab ein kurzer Gruss von Python-Code, dem eingebauten 'Favoriten' bei Jupyter Notebooks.\")"
      ],
      "metadata": {
        "colab": {
          "base_uri": "https://localhost:8080/"
        },
        "id": "NgJSWXEf1ZKf",
        "outputId": "5e91595a-d3c9-4033-9caa-198232e6874b"
      },
      "execution_count": 1,
      "outputs": [
        {
          "output_type": "stream",
          "name": "stdout",
          "text": [
            "Vorab ein kurzer Gruss von Python-Code, dem eingebauten 'Favoriten' bei Jupyter Notebooks.\n"
          ]
        }
      ]
    },
    {
      "cell_type": "markdown",
      "source": [
        "Für C++ müssen Installationen gemacht (und ausgeführt) werden, damit im Notebook das \"cell magic\" %%cu für den Compiler verfügbar ist. (Quelle: https://www.geeksforgeeks.org/how-to-run-cuda-c-c-on-jupyter-notebook-in-google-colaboratory/)\n",
        "\n",
        "(Für Interessierte: Mit '!' am Anfang der Zeil werden hier Befehle an die Konsole des Servers geschickt.)"
      ],
      "metadata": {
        "id": "ra9j3V0XQJ_s"
      }
    },
    {
      "cell_type": "code",
      "source": [
        "!echo \"*** 1.)  Test if NVIDIA(R)-cuda-compiler-driver is availabe...\"\n",
        "!nvcc --version\n",
        "!echo \"*** 2.) Install extension to run nvcc ...\"\n",
        "!pip install git+https://github.com/andreinechaev/nvcc4jupyter.git\n",
        "!echo \"*** 3.) Load extension using a 'line magic %' command....\"\n",
        "%load_ext nvcc_plugin"
      ],
      "metadata": {
        "id": "fyVDClX4P3WX"
      },
      "execution_count": null,
      "outputs": []
    },
    {
      "cell_type": "code",
      "source": [
        "%%cu\n",
        "//%%cu cell magic is required to use c++\n",
        "#include <iostream>\n",
        "int\tmain(void) {\n",
        "\tstd::cout << \"Welcome To C++!\\n\";\n",
        "\treturn 0;\n",
        "}\n"
      ],
      "metadata": {
        "colab": {
          "base_uri": "https://localhost:8080/"
        },
        "id": "A3QPaCJYQBls",
        "outputId": "383e90d7-7bef-42ab-fe22-7fada6d8113c"
      },
      "execution_count": 16,
      "outputs": [
        {
          "output_type": "stream",
          "name": "stdout",
          "text": [
            "Welcome To C++!\n",
            "\n"
          ]
        }
      ]
    },
    {
      "cell_type": "markdown",
      "source": [
        "> (Sehen sie statt der Ausgabe nur \"*UsageError: Cell magic `%%cu` not found.*\"?\n",
        "> Haben sie den Code-Block darüber schon ausgeführt?)\n",
        "\n",
        "> (Wundern sie sich nicht über die Unterstrich-Markierungen des Editors -- der denkt leider er hätte Python-Code vor sich.)\n",
        "\n"
      ],
      "metadata": {
        "id": "UlYVtFMPqh1B"
      }
    },
    {
      "cell_type": "markdown",
      "source": [
        "# Ihre ersten Aufgaben\n",
        "\n",
        "* Lassen sie ihren persönlichen Begrüßungstext ausgeben.\n",
        "* Nutzen sie using namespace zur Vereinfachung.\n",
        "\n",
        "(Interaktive Eingaben sind hier leider nicht möglich.)\n"
      ],
      "metadata": {
        "id": "JYpBAjGm6dLA"
      }
    },
    {
      "cell_type": "code",
      "source": [
        "%%cu\n",
        "#include <iostream>\n",
        "int\tmain(void) {\n",
        "\tstd::cout << \"Welcome To C++!\\n\";\n",
        "\treturn 0;\n",
        "}"
      ],
      "metadata": {
        "id": "GDXqDlB-PnvJ",
        "colab": {
          "base_uri": "https://localhost:8080/"
        },
        "outputId": "b9e378d2-0618-431d-b676-f23c5908dd63"
      },
      "execution_count": 4,
      "outputs": [
        {
          "output_type": "stream",
          "name": "stdout",
          "text": [
            "Welcome To C++!\n",
            "\n"
          ]
        }
      ]
    },
    {
      "cell_type": "markdown",
      "source": [
        "### Hello C++ *mit* Klasse"
      ],
      "metadata": {
        "id": "rqA25Ukl9S7l"
      }
    },
    {
      "cell_type": "code",
      "source": [
        "%%cu\n",
        "#include <iostream>\n",
        "using namespace std;\n",
        "class MyClass{\n",
        "public:\n",
        "   void myMemberFunc(void){\n",
        "      cout << \"Hello from objects member-function\" << endl;\n",
        "   }\n",
        "};//class\n",
        "\n",
        "int main(void)\n",
        "{\n",
        "   MyClass obj1;\n",
        "   obj1.myMemberFunc();\n",
        "}"
      ],
      "metadata": {
        "colab": {
          "base_uri": "https://localhost:8080/"
        },
        "id": "UtUnyreI9Z_7",
        "outputId": "518af898-5fb8-49f5-b045-7ab3bcdb27d2"
      },
      "execution_count": 10,
      "outputs": [
        {
          "output_type": "stream",
          "name": "stdout",
          "text": [
            "Hello from objects member-function\n",
            "\n"
          ]
        }
      ]
    },
    {
      "cell_type": "markdown",
      "source": [
        "# Beispiele zu C++ Features: Vector"
      ],
      "metadata": {
        "id": "9KPEFlzJARk3"
      }
    },
    {
      "cell_type": "code",
      "source": [
        "%%cu\n",
        "#include <iostream>\n",
        "#include <vector>\n",
        "using namespace std;\n",
        "int\tmain(void)\n",
        "{\n",
        "  vector<int> v;\n",
        "  v.push_back(47);\n",
        "  v.push_back(11);\n",
        "  for (int i = 0; i < v.size(); i++) {\n",
        "    cout << v[i] << endl;\n",
        "  }\n",
        "  return 0;\n",
        "}"
      ],
      "metadata": {
        "colab": {
          "base_uri": "https://localhost:8080/"
        },
        "id": "wcND6-uvAZBx",
        "outputId": "99fa2d86-09ce-47f4-9257-256c5a7ca1bf"
      },
      "execution_count": 17,
      "outputs": [
        {
          "output_type": "stream",
          "name": "stdout",
          "text": [
            "47\n",
            "11\n",
            "\n"
          ]
        }
      ]
    },
    {
      "cell_type": "markdown",
      "source": [
        "### Ihre Aufgabe: Füllen sie die Lücken"
      ],
      "metadata": {
        "id": "-ue7ExwGCNyM"
      }
    },
    {
      "cell_type": "code",
      "source": [
        "%%cu\n",
        "#include <iostream>\n",
        "#include <vector>\n",
        "using namespace std;\n",
        "int\tmain(void)\n",
        "{\n",
        "  vector<int> v;\n",
        "  for (int i = 0; i < 10; i++)\n",
        "    // TODO: 10 mal i an v anhaengen\n",
        "    ;\n",
        "  for (int i = 0; i < v.size(); i++)\n",
        "    // TODO: jeder Wert = Wert *10\n",
        "    ;\n",
        "  cout << \"Alle Werte in v:\" << endl;\n",
        "  for (int x : v) {\n",
        "    cout << x << endl;\n",
        "  }\n",
        "  return 0;\n",
        "}"
      ],
      "metadata": {
        "colab": {
          "base_uri": "https://localhost:8080/"
        },
        "id": "qixSRyozCSLd",
        "outputId": "9e4c551e-3fd0-4fd8-b7d8-2cd9042d60dd"
      },
      "execution_count": 15,
      "outputs": [
        {
          "output_type": "stream",
          "name": "stdout",
          "text": [
            "Alle Werte in v:\n",
            "\n"
          ]
        }
      ]
    },
    {
      "cell_type": "markdown",
      "source": [
        "Todo evtl. interessante Notebooks:\n",
        "\n",
        "\n",
        "https://colab.research.google.com/github/hussain0048/C-Plus-Plus/blob/master/Basic_of_C%2B%2B.ipynb#scrollTo=UNIfawb86g7J\n",
        "\n",
        "https://colab.research.google.com/github/Tanu-N-Prabhu/Python/blob/master/Cheat_sheet_for_Google_Colab.ipynb\n",
        "\n",
        "https://www.tutorialspoint.com/google_colab/google_colab_quick_guide.htm"
      ],
      "metadata": {
        "id": "nCDZddmzs2cW"
      }
    }
  ]
}