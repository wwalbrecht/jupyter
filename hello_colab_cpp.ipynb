{
  "nbformat": 4,
  "nbformat_minor": 0,
  "metadata": {
    "colab": {
      "provenance": [],
      "gpuType": "T4",
      "authorship_tag": "ABX9TyM9lg/qcdO169786+1rqKgB",
      "include_colab_link": true
    },
    "kernelspec": {
      "name": "python3",
      "display_name": "Python 3"
    },
    "language_info": {
      "name": "python"
    },
    "accelerator": "GPU"
  },
  "cells": [
    {
      "cell_type": "markdown",
      "metadata": {
        "id": "view-in-github",
        "colab_type": "text"
      },
      "source": [
        "<a href=\"https://colab.research.google.com/github/wwalbrecht/jupyter/blob/main/hello_colab_cpp.ipynb\" target=\"_parent\"><img src=\"https://colab.research.google.com/assets/colab-badge.svg\" alt=\"Open In Colab\"/></a>"
      ]
    },
    {
      "cell_type": "markdown",
      "source": [
        "Mit dem ersten Code-Block müssen noch Installationen gemacht werden, damit im Notebook das \"cell-magic\" %%cu für den C++-Comiler verfügbar ist.\n",
        "\n",
        "Quelle: https://www.geeksforgeeks.org/how-to-run-cuda-c-c-on-jupyter-notebook-in-google-colaboratory/"
      ],
      "metadata": {
        "id": "ra9j3V0XQJ_s"
      }
    },
    {
      "cell_type": "code",
      "source": [
        "!nvcc --version\n",
        "!pip install git+https://github.com/andreinechaev/nvcc4jupyter.git\n",
        "%load_ext nvcc_plugin"
      ],
      "metadata": {
        "id": "fyVDClX4P3WX"
      },
      "execution_count": null,
      "outputs": []
    },
    {
      "cell_type": "code",
      "source": [
        "%%cu\n",
        "//cu cell-magic is required to use c++\n",
        "#include <iostream>\n",
        "\tint\n",
        "\tmain()\n",
        "{\n",
        "\tstd::cout << \"Welcome To C++!\\n\";\n",
        "\treturn 0;\n",
        "}\n"
      ],
      "metadata": {
        "colab": {
          "base_uri": "https://localhost:8080/"
        },
        "id": "A3QPaCJYQBls",
        "outputId": "6b967476-81b1-457c-ff0d-1bff883e6b9e"
      },
      "execution_count": 9,
      "outputs": [
        {
          "output_type": "stream",
          "name": "stdout",
          "text": [
            "Welcome To C++\n",
            "\n"
          ]
        }
      ]
    },
    {
      "cell_type": "markdown",
      "source": [
        "(Sehen sie nur \"*UsageError: Cell magic `%%cu` not found.*\"?\n",
        "\n",
        "Haben sie vergessen den obersten Code-Block auszuführen?)"
      ],
      "metadata": {
        "id": "UlYVtFMPqh1B"
      }
    },
    {
      "cell_type": "code",
      "source": [
        "%%cu\n",
        "#include <iostream>\n",
        "using namespace std;\n",
        "int main(void)\n",
        "{\n",
        "\tcout << \"Welcome To C++ again!\\n\";\n",
        "\treturn 0;\n",
        "}\n"
      ],
      "metadata": {
        "id": "GDXqDlB-PnvJ"
      },
      "execution_count": null,
      "outputs": []
    },
    {
      "cell_type": "markdown",
      "source": [
        "Todo weitere Notebooks:\n",
        "\n",
        "\n",
        "https://colab.research.google.com/github/hussain0048/C-Plus-Plus/blob/master/Basic_of_C%2B%2B.ipynb#scrollTo=UNIfawb86g7J\n"
      ],
      "metadata": {
        "id": "nCDZddmzs2cW"
      }
    }
  ]
}